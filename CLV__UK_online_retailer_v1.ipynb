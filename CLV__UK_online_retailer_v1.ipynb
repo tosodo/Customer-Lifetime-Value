{
  "nbformat": 4,
  "nbformat_minor": 0,
  "metadata": {
    "colab": {
      "name": "CLV__UK_online_retailer_v1.ipynb",
      "provenance": [],
      "collapsed_sections": [],
      "toc_visible": true,
      "authorship_tag": "ABX9TyN0dQVj3HubQgJ9+N+LCOVa",
      "include_colab_link": true
    },
    "kernelspec": {
      "name": "python3",
      "display_name": "Python 3"
    }
  },
  "cells": [
    {
      "cell_type": "markdown",
      "metadata": {
        "id": "view-in-github",
        "colab_type": "text"
      },
      "source": [
        "<a href=\"https://colab.research.google.com/github/rtheman/CLV/blob/master/2_Code/CLV__UK_online_retailer_v1.ipynb\" target=\"_parent\"><img src=\"https://colab.research.google.com/assets/colab-badge.svg\" alt=\"Open In Colab\"/></a>"
      ]
    },
    {
      "cell_type": "markdown",
      "metadata": {
        "id": "ju-CmU27B9jt",
        "colab_type": "text"
      },
      "source": [
        "# Customer Lifetime Value\n",
        "\n",
        "**OBJECTIVE**.  To quantify customers in a non-contractual business settings.\n",
        "\n",
        "**Data**: https://www.kaggle.com/roshansharma/online-retail?select=online+retail.csv\n",
        "\n",
        "NOTE:\n",
        "1. `InvoiceNo` is alphanumeric\n",
        "1. `InvoiceDate` in formatted as dd.mm/yy h.mm\n",
        "\n",
        "**REFERENCES**\n",
        "\n",
        "Videos\n",
        "- Peter Fader [video](https://www.youtube.com/watch?v=guj2gVEEx4s)\n",
        "\n",
        "Examples\n",
        "- Collin Ching's [Medium blog](https://towardsdatascience.com/modeling-customer-churn-for-an-e-commerce-business-with-python-874315e688bf)\n",
        "- Luca De Angelis [Medium blog](https://towardsdatascience.com/predicting-customer-lifetime-value-with-buy-til-you-die-probabilistic-models-in-python-f5cac78758d9).  Great write up.\n",
        "- Gamma-Gamma [example01](https://books.google.com/books?id=_xamDwAAQBAJ&pg=PA99&lpg=PA99&dq=GammaGammaFitter&source=bl&ots=s-SdLrKpZP&sig=ACfU3U2ChOfkDkgzfGdu_6PhAizXg-T80Q&hl=en&sa=X&ved=2ahUKEwje3IaBud_pAhX7HzQIHaqpCUgQ6AEwBXoECAoQAQ#v=onepage&q=GammaGammaFitter&f=false)\n",
        "- Gamma-Gamma [example02](https://www.mikulskibartosz.name/predicting-customer-lifetime-value-using-the-pareto-nbd-model-and-gamma-gamma-model/) by Bartosz Mikulski"
      ]
    },
    {
      "cell_type": "markdown",
      "metadata": {
        "id": "ohg6BL7hCpyr",
        "colab_type": "text"
      },
      "source": [
        "# 1.) Data Extraction\n",
        "\n",
        "**REFERENCES**\n",
        "- [BigQuery documentation](https://cloud.google.com/bigquery/docs)\n",
        "- [library reference documentation](https://googleapis.dev/python/bigquery/latest/index.html#).\n",
        "\n",
        "Example. https://colab.research.google.com/notebooks/bigquery.ipynb#scrollTo=ONI1Xo0-KtAD"
      ]
    },
    {
      "cell_type": "markdown",
      "metadata": {
        "id": "1oPshBh_CuM7",
        "colab_type": "text"
      },
      "source": [
        "## a.- Connecting to BigQuery"
      ]
    },
    {
      "cell_type": "markdown",
      "metadata": {
        "id": "67m5aNZLC5xV",
        "colab_type": "text"
      },
      "source": [
        "### i. Set Credentials"
      ]
    },
    {
      "cell_type": "code",
      "metadata": {
        "id": "JziH1zooIoX4",
        "colab_type": "code",
        "outputId": "8df7779e-f7da-421c-b278-9630f2f92250",
        "colab": {
          "base_uri": "https://localhost:8080/",
          "height": 33
        }
      },
      "source": [
        "from google.colab import auth\n",
        "auth.authenticate_user()\n",
        "print('Authenticated')"
      ],
      "execution_count": 121,
      "outputs": [
        {
          "output_type": "stream",
          "text": [
            "Authenticated\n"
          ],
          "name": "stdout"
        }
      ]
    },
    {
      "cell_type": "markdown",
      "metadata": {
        "id": "oCr0OgG1C7-U",
        "colab_type": "text"
      },
      "source": [
        "### ii. Enable data table display\n",
        "\n",
        "Colab includes the `google.colab.data_table` package that can be used to display large pandas dataframes as an interactive data table. It can be enabled with:"
      ]
    },
    {
      "cell_type": "code",
      "metadata": {
        "id": "lkOKFfi5IzQd",
        "colab_type": "code",
        "colab": {}
      },
      "source": [
        "%load_ext google.colab.data_table"
      ],
      "execution_count": 0,
      "outputs": []
    },
    {
      "cell_type": "markdown",
      "metadata": {
        "id": "D6LUBmYaI1lL",
        "colab_type": "text"
      },
      "source": [
        "To disable, simply\n",
        "`%unload_ext google.colab.data_table`"
      ]
    },
    {
      "cell_type": "markdown",
      "metadata": {
        "id": "5zpcPl2PC_QD",
        "colab_type": "text"
      },
      "source": [
        "### iii. Set BigQuery project ID"
      ]
    },
    {
      "cell_type": "code",
      "metadata": {
        "id": "zU3gcWFEI7CS",
        "colab_type": "code",
        "colab": {}
      },
      "source": [
        "# Declare the Cloud project ID which will be used throughout this notebook\n",
        "project_id = \"rleung-sandbox\"\n",
        "\n",
        "# Set table_id to the ID of the destination table.\n",
        "table_name = \"online_retailer_UK\"\n",
        "table_id = project_id + \".\" + table_name"
      ],
      "execution_count": 0,
      "outputs": []
    },
    {
      "cell_type": "markdown",
      "metadata": {
        "id": "1hfGqyZ7DGa1",
        "colab_type": "text"
      },
      "source": [
        "## b.- Query Data\n",
        "\n",
        "We will use BigQuery via `magics` as well as the `google.cloud.bigquery` library.  \n",
        "\n",
        "The `magics` command runs query and either displays the result or saves it to a variable as a `DataFrame`."
      ]
    },
    {
      "cell_type": "code",
      "metadata": {
        "id": "q-cSr5iXJfYD",
        "colab_type": "code",
        "colab": {}
      },
      "source": [
        "from google.cloud import bigquery\n",
        "\n",
        "# Construct a BigQuery client object.\n",
        "client = bigquery.Client(project=project_id)"
      ],
      "execution_count": 0,
      "outputs": []
    },
    {
      "cell_type": "markdown",
      "metadata": {
        "id": "wxlmYc4SDLMq",
        "colab_type": "text"
      },
      "source": [
        "### i. Num. of records"
      ]
    },
    {
      "cell_type": "code",
      "metadata": {
        "id": "Q_ChaJ0xJh93",
        "colab_type": "code",
        "outputId": "d762ed40-b84b-4275-acc1-ccc8005ac4a6",
        "colab": {
          "base_uri": "https://localhost:8080/",
          "height": 106
        }
      },
      "source": [
        "# BigQuery via magics\n",
        "\n",
        "%%bigquery --project rleung-sandbox\n",
        "SELECT \n",
        "  COUNT(*) as total\n",
        "FROM `rleung-sandbox.CLV.online_retailer_UK`"
      ],
      "execution_count": 125,
      "outputs": [
        {
          "output_type": "execute_result",
          "data": {
            "application/vnd.google.colaboratory.module+javascript": "\n      import \"https://ssl.gstatic.com/colaboratory/data_table/a6224c040fa35dcf/data_table.js\";\n\n      window.createDataTable({\n        data: [[{\n            'v': 0,\n            'f': \"0\",\n        },\n{\n            'v': 532619,\n            'f': \"532619\",\n        }]],\n        columns: [[\"number\", \"index\"], [\"number\", \"total\"]],\n        columnOptions: [{\"width\": \"1px\", \"className\": \"index_column\"}],\n        rowsPerPage: 25,\n        helpUrl: \"https://colab.research.google.com/notebooks/data_table.ipynb\",\n        suppressOutputScrolling: true,\n        minimumWidth: undefined,\n      });\n    ",
            "text/html": [
              "<div>\n",
              "<style scoped>\n",
              "    .dataframe tbody tr th:only-of-type {\n",
              "        vertical-align: middle;\n",
              "    }\n",
              "\n",
              "    .dataframe tbody tr th {\n",
              "        vertical-align: top;\n",
              "    }\n",
              "\n",
              "    .dataframe thead th {\n",
              "        text-align: right;\n",
              "    }\n",
              "</style>\n",
              "<table border=\"1\" class=\"dataframe\">\n",
              "  <thead>\n",
              "    <tr style=\"text-align: right;\">\n",
              "      <th></th>\n",
              "      <th>total</th>\n",
              "    </tr>\n",
              "  </thead>\n",
              "  <tbody>\n",
              "    <tr>\n",
              "      <th>0</th>\n",
              "      <td>532619</td>\n",
              "    </tr>\n",
              "  </tbody>\n",
              "</table>\n",
              "</div>"
            ],
            "text/plain": [
              "    total\n",
              "0  532619"
            ]
          },
          "metadata": {
            "tags": []
          },
          "execution_count": 125
        }
      ]
    },
    {
      "cell_type": "code",
      "metadata": {
        "id": "qWxGgzVbJxyq",
        "colab_type": "code",
        "outputId": "3ed0f0b2-1880-4dfa-85fc-f941d6018c5e",
        "colab": {
          "base_uri": "https://localhost:8080/",
          "height": 33
        }
      },
      "source": [
        "# BigQuery via google-cloud-bigquery\n",
        "\n",
        "row_count = client.query('''\n",
        "  SELECT \n",
        "    COUNT(*) as total\n",
        "  FROM `rleung-sandbox.CLV.online_retailer_UK`\n",
        "''').to_dataframe().total[0]\n",
        "\n",
        "print('Full dataset has %d rows' % row_count)"
      ],
      "execution_count": 126,
      "outputs": [
        {
          "output_type": "stream",
          "text": [
            "Full dataset has 532619 rows\n"
          ],
          "name": "stdout"
        }
      ]
    },
    {
      "cell_type": "markdown",
      "metadata": {
        "id": "xN5S_C0rDQKh",
        "colab_type": "text"
      },
      "source": [
        "### ii. Num. of customers"
      ]
    },
    {
      "cell_type": "code",
      "metadata": {
        "id": "n4cp6cQBJ2Z_",
        "colab_type": "code",
        "outputId": "9f3ba0d1-b1e6-48b8-a370-fb4031a4acf4",
        "colab": {
          "base_uri": "https://localhost:8080/",
          "height": 106
        }
      },
      "source": [
        "# BigQuery via magics\n",
        "\n",
        "%%bigquery --project rleung-sandbox\n",
        "SELECT\n",
        "    COUNT(DISTINCT CustomerID) as total\n",
        "# FROM `rleung-sandbox.CLV.online_retailer_UK`\n",
        "FROM `rleung-sandbox.CLV.online_retailer_UK`"
      ],
      "execution_count": 127,
      "outputs": [
        {
          "output_type": "execute_result",
          "data": {
            "application/vnd.google.colaboratory.module+javascript": "\n      import \"https://ssl.gstatic.com/colaboratory/data_table/a6224c040fa35dcf/data_table.js\";\n\n      window.createDataTable({\n        data: [[{\n            'v': 0,\n            'f': \"0\",\n        },\n{\n            'v': 4339,\n            'f': \"4339\",\n        }]],\n        columns: [[\"number\", \"index\"], [\"number\", \"total\"]],\n        columnOptions: [{\"width\": \"1px\", \"className\": \"index_column\"}],\n        rowsPerPage: 25,\n        helpUrl: \"https://colab.research.google.com/notebooks/data_table.ipynb\",\n        suppressOutputScrolling: true,\n        minimumWidth: undefined,\n      });\n    ",
            "text/html": [
              "<div>\n",
              "<style scoped>\n",
              "    .dataframe tbody tr th:only-of-type {\n",
              "        vertical-align: middle;\n",
              "    }\n",
              "\n",
              "    .dataframe tbody tr th {\n",
              "        vertical-align: top;\n",
              "    }\n",
              "\n",
              "    .dataframe thead th {\n",
              "        text-align: right;\n",
              "    }\n",
              "</style>\n",
              "<table border=\"1\" class=\"dataframe\">\n",
              "  <thead>\n",
              "    <tr style=\"text-align: right;\">\n",
              "      <th></th>\n",
              "      <th>total</th>\n",
              "    </tr>\n",
              "  </thead>\n",
              "  <tbody>\n",
              "    <tr>\n",
              "      <th>0</th>\n",
              "      <td>4339</td>\n",
              "    </tr>\n",
              "  </tbody>\n",
              "</table>\n",
              "</div>"
            ],
            "text/plain": [
              "   total\n",
              "0   4339"
            ]
          },
          "metadata": {
            "tags": []
          },
          "execution_count": 127
        }
      ]
    },
    {
      "cell_type": "code",
      "metadata": {
        "id": "okfE5s0BLmgd",
        "colab_type": "code",
        "outputId": "cf48d0da-f512-4447-a0a2-e62dfb0130b5",
        "colab": {
          "base_uri": "https://localhost:8080/",
          "height": 33
        }
      },
      "source": [
        "# BigQuery via google-cloud-bigquery\n",
        "\n",
        "cust_count = client.query('''\n",
        "    SELECT\n",
        "        COUNT(DISTINCT CustomerID) as total\n",
        "    FROM `rleung-sandbox.CLV.online_retailer_UK`\n",
        "''').to_dataframe().total[0]\n",
        "\n",
        "print('There are %d customers' % cust_count)"
      ],
      "execution_count": 128,
      "outputs": [
        {
          "output_type": "stream",
          "text": [
            "There are 4339 customers\n"
          ],
          "name": "stdout"
        }
      ]
    },
    {
      "cell_type": "markdown",
      "metadata": {
        "id": "T95Gylm7DTP4",
        "colab_type": "text"
      },
      "source": [
        "### iii. Date Range"
      ]
    },
    {
      "cell_type": "code",
      "metadata": {
        "id": "ZanGjmJbU2CL",
        "colab_type": "code",
        "colab": {}
      },
      "source": [
        "holdout_date = '2011-10-10'"
      ],
      "execution_count": 0,
      "outputs": []
    },
    {
      "cell_type": "code",
      "metadata": {
        "id": "gWHAk8usL-__",
        "colab_type": "code",
        "outputId": "aeaeef8a-6d90-4d0b-9679-168c82261d0e",
        "colab": {
          "base_uri": "https://localhost:8080/",
          "height": 106
        }
      },
      "source": [
        "# BigQuery via magics\n",
        "\n",
        "%%bigquery --project rleung-sandbox\n",
        "select \n",
        "    a.first_purchase_date\n",
        "    , a.last_purchase_date\n",
        "    , date_diff(a.last_purchase_date, a.first_purchase_date, day) days_diff\n",
        "    , date_diff(a.last_purchase_date, a.first_purchase_date, month) monthss_diff\n",
        "    , date_diff(date '2011-10-10', a.first_purchase_date, day) calibration_diff\n",
        "from (\n",
        "    select \n",
        "        min(InvoiceDate) as first_purchase_date\n",
        "        , max(InvoiceDate) as last_purchase_date\n",
        "    from `rleung-sandbox.CLV.online_retailer_UK`\n",
        ") as a"
      ],
      "execution_count": 130,
      "outputs": [
        {
          "output_type": "execute_result",
          "data": {
            "application/vnd.google.colaboratory.module+javascript": "\n      import \"https://ssl.gstatic.com/colaboratory/data_table/a6224c040fa35dcf/data_table.js\";\n\n      window.createDataTable({\n        data: [[{\n            'v': 0,\n            'f': \"0\",\n        },\n\"2010-12-01\",\n\"2011-12-09\",\n{\n            'v': 373,\n            'f': \"373\",\n        },\n{\n            'v': 12,\n            'f': \"12\",\n        },\n{\n            'v': 313,\n            'f': \"313\",\n        }]],\n        columns: [[\"number\", \"index\"], [\"string\", \"first_purchase_date\"], [\"string\", \"last_purchase_date\"], [\"number\", \"days_diff\"], [\"number\", \"monthss_diff\"], [\"number\", \"calibration_diff\"]],\n        columnOptions: [{\"width\": \"1px\", \"className\": \"index_column\"}],\n        rowsPerPage: 25,\n        helpUrl: \"https://colab.research.google.com/notebooks/data_table.ipynb\",\n        suppressOutputScrolling: true,\n        minimumWidth: undefined,\n      });\n    ",
            "text/html": [
              "<div>\n",
              "<style scoped>\n",
              "    .dataframe tbody tr th:only-of-type {\n",
              "        vertical-align: middle;\n",
              "    }\n",
              "\n",
              "    .dataframe tbody tr th {\n",
              "        vertical-align: top;\n",
              "    }\n",
              "\n",
              "    .dataframe thead th {\n",
              "        text-align: right;\n",
              "    }\n",
              "</style>\n",
              "<table border=\"1\" class=\"dataframe\">\n",
              "  <thead>\n",
              "    <tr style=\"text-align: right;\">\n",
              "      <th></th>\n",
              "      <th>first_purchase_date</th>\n",
              "      <th>last_purchase_date</th>\n",
              "      <th>days_diff</th>\n",
              "      <th>monthss_diff</th>\n",
              "      <th>calibration_diff</th>\n",
              "    </tr>\n",
              "  </thead>\n",
              "  <tbody>\n",
              "    <tr>\n",
              "      <th>0</th>\n",
              "      <td>2010-12-01</td>\n",
              "      <td>2011-12-09</td>\n",
              "      <td>373</td>\n",
              "      <td>12</td>\n",
              "      <td>313</td>\n",
              "    </tr>\n",
              "  </tbody>\n",
              "</table>\n",
              "</div>"
            ],
            "text/plain": [
              "  first_purchase_date last_purchase_date  ...  monthss_diff  calibration_diff\n",
              "0          2010-12-01         2011-12-09  ...            12               313\n",
              "\n",
              "[1 rows x 5 columns]"
            ]
          },
          "metadata": {
            "tags": []
          },
          "execution_count": 130
        }
      ]
    },
    {
      "cell_type": "code",
      "metadata": {
        "id": "ubVu7mUTNVVW",
        "colab_type": "code",
        "colab": {}
      },
      "source": [
        "# BigQuery via magics\n",
        "# Persist result as dataframe\n",
        "\n",
        "%%bigquery --project rleung-sandbox df_dates\n",
        "select \n",
        "    a.first_purchase_date\n",
        "    , a.last_purchase_date\n",
        "    , date_diff(a.last_purchase_date, a.first_purchase_date, day) days_diff\n",
        "    , date_diff(a.last_purchase_date, a.first_purchase_date, month) monthss_diff\n",
        "    , date_diff(date '2011-10-10', a.first_purchase_date, day) calibration_diff\n",
        "from (\n",
        "    select \n",
        "        min(InvoiceDate) as first_purchase_date\n",
        "        , max(InvoiceDate) as last_purchase_date\n",
        "    from `rleung-sandbox.CLV.online_retailer_UK`\n",
        ") as a"
      ],
      "execution_count": 0,
      "outputs": []
    },
    {
      "cell_type": "code",
      "metadata": {
        "id": "UeuwY_kHNekv",
        "colab_type": "code",
        "outputId": "ca242f19-5d33-4b68-dc1f-51379dfff92a",
        "colab": {
          "base_uri": "https://localhost:8080/",
          "height": 106
        }
      },
      "source": [
        "df_dates"
      ],
      "execution_count": 132,
      "outputs": [
        {
          "output_type": "execute_result",
          "data": {
            "application/vnd.google.colaboratory.module+javascript": "\n      import \"https://ssl.gstatic.com/colaboratory/data_table/a6224c040fa35dcf/data_table.js\";\n\n      window.createDataTable({\n        data: [[{\n            'v': 0,\n            'f': \"0\",\n        },\n\"2010-12-01\",\n\"2011-12-09\",\n{\n            'v': 373,\n            'f': \"373\",\n        },\n{\n            'v': 12,\n            'f': \"12\",\n        },\n{\n            'v': 313,\n            'f': \"313\",\n        }]],\n        columns: [[\"number\", \"index\"], [\"string\", \"first_purchase_date\"], [\"string\", \"last_purchase_date\"], [\"number\", \"days_diff\"], [\"number\", \"monthss_diff\"], [\"number\", \"calibration_diff\"]],\n        columnOptions: [{\"width\": \"1px\", \"className\": \"index_column\"}],\n        rowsPerPage: 25,\n        helpUrl: \"https://colab.research.google.com/notebooks/data_table.ipynb\",\n        suppressOutputScrolling: true,\n        minimumWidth: undefined,\n      });\n    ",
            "text/html": [
              "<div>\n",
              "<style scoped>\n",
              "    .dataframe tbody tr th:only-of-type {\n",
              "        vertical-align: middle;\n",
              "    }\n",
              "\n",
              "    .dataframe tbody tr th {\n",
              "        vertical-align: top;\n",
              "    }\n",
              "\n",
              "    .dataframe thead th {\n",
              "        text-align: right;\n",
              "    }\n",
              "</style>\n",
              "<table border=\"1\" class=\"dataframe\">\n",
              "  <thead>\n",
              "    <tr style=\"text-align: right;\">\n",
              "      <th></th>\n",
              "      <th>first_purchase_date</th>\n",
              "      <th>last_purchase_date</th>\n",
              "      <th>days_diff</th>\n",
              "      <th>monthss_diff</th>\n",
              "      <th>calibration_diff</th>\n",
              "    </tr>\n",
              "  </thead>\n",
              "  <tbody>\n",
              "    <tr>\n",
              "      <th>0</th>\n",
              "      <td>2010-12-01</td>\n",
              "      <td>2011-12-09</td>\n",
              "      <td>373</td>\n",
              "      <td>12</td>\n",
              "      <td>313</td>\n",
              "    </tr>\n",
              "  </tbody>\n",
              "</table>\n",
              "</div>"
            ],
            "text/plain": [
              "  first_purchase_date last_purchase_date  ...  monthss_diff  calibration_diff\n",
              "0          2010-12-01         2011-12-09  ...            12               313\n",
              "\n",
              "[1 rows x 5 columns]"
            ]
          },
          "metadata": {
            "tags": []
          },
          "execution_count": 132
        }
      ]
    },
    {
      "cell_type": "code",
      "metadata": {
        "id": "v_jBHmrzNpGf",
        "colab_type": "code",
        "colab": {}
      },
      "source": [
        "first_purchase_date = df_dates[\"first_purchase_date\"]\n",
        "last_purchase_date = df_dates[\"last_purchase_date\"]"
      ],
      "execution_count": 0,
      "outputs": []
    },
    {
      "cell_type": "code",
      "metadata": {
        "id": "maEEt90UQbMf",
        "colab_type": "code",
        "outputId": "52f40f1f-684f-4ef0-ce93-0e8408719d56",
        "colab": {
          "base_uri": "https://localhost:8080/",
          "height": 50
        }
      },
      "source": [
        "last_purchase_date"
      ],
      "execution_count": 134,
      "outputs": [
        {
          "output_type": "execute_result",
          "data": {
            "text/plain": [
              "0    2011-12-09\n",
              "Name: last_purchase_date, dtype: object"
            ]
          },
          "metadata": {
            "tags": []
          },
          "execution_count": 134
        }
      ]
    },
    {
      "cell_type": "markdown",
      "metadata": {
        "id": "cNvFCuQxDWRG",
        "colab_type": "text"
      },
      "source": [
        "### iv. Persist dataset as local dataframe"
      ]
    },
    {
      "cell_type": "code",
      "metadata": {
        "id": "gHFiAZ-SPL9P",
        "colab_type": "code",
        "colab": {}
      },
      "source": [
        "# BigQuery via magics\n",
        "# Persist entire dataset as dataframe\n",
        "\n",
        "%%bigquery --project rleung-sandbox df\n",
        "SELECT *, (Quantity * UnitPrice) as xaction_value\n",
        "FROM `rleung-sandbox.CLV.online_retailer_UK`"
      ],
      "execution_count": 0,
      "outputs": []
    },
    {
      "cell_type": "code",
      "metadata": {
        "id": "bVjA9qi0PrZ_",
        "colab_type": "code",
        "outputId": "e851eebb-3fce-40f3-f161-c238eb25a78e",
        "colab": {
          "base_uri": "https://localhost:8080/",
          "height": 207
        }
      },
      "source": [
        "df.head()"
      ],
      "execution_count": 184,
      "outputs": [
        {
          "output_type": "execute_result",
          "data": {
            "text/html": [
              "<div>\n",
              "<style scoped>\n",
              "    .dataframe tbody tr th:only-of-type {\n",
              "        vertical-align: middle;\n",
              "    }\n",
              "\n",
              "    .dataframe tbody tr th {\n",
              "        vertical-align: top;\n",
              "    }\n",
              "\n",
              "    .dataframe thead th {\n",
              "        text-align: right;\n",
              "    }\n",
              "</style>\n",
              "<table border=\"1\" class=\"dataframe\">\n",
              "  <thead>\n",
              "    <tr style=\"text-align: right;\">\n",
              "      <th></th>\n",
              "      <th>CustomerID</th>\n",
              "      <th>InvoiceNo</th>\n",
              "      <th>StockCode</th>\n",
              "      <th>Description</th>\n",
              "      <th>InvoiceDate</th>\n",
              "      <th>Quantity</th>\n",
              "      <th>UnitPrice</th>\n",
              "      <th>Country</th>\n",
              "      <th>xaction_value</th>\n",
              "    </tr>\n",
              "  </thead>\n",
              "  <tbody>\n",
              "    <tr>\n",
              "      <th>0</th>\n",
              "      <td>12646</td>\n",
              "      <td>572215</td>\n",
              "      <td>23293</td>\n",
              "      <td>SET OF 12 FAIRY CAKE BAKING CASES</td>\n",
              "      <td>2011-10-21</td>\n",
              "      <td>32</td>\n",
              "      <td>0.83</td>\n",
              "      <td>USA</td>\n",
              "      <td>26.56</td>\n",
              "    </tr>\n",
              "    <tr>\n",
              "      <th>1</th>\n",
              "      <td>12646</td>\n",
              "      <td>572215</td>\n",
              "      <td>23296</td>\n",
              "      <td>SET OF 6 TEA TIME BAKING CASES</td>\n",
              "      <td>2011-10-21</td>\n",
              "      <td>32</td>\n",
              "      <td>1.25</td>\n",
              "      <td>USA</td>\n",
              "      <td>40.00</td>\n",
              "    </tr>\n",
              "    <tr>\n",
              "      <th>2</th>\n",
              "      <td>12646</td>\n",
              "      <td>580553</td>\n",
              "      <td>23366</td>\n",
              "      <td>SET 12 COLOURING PENCILS DOILY</td>\n",
              "      <td>2011-12-05</td>\n",
              "      <td>72</td>\n",
              "      <td>0.65</td>\n",
              "      <td>USA</td>\n",
              "      <td>46.80</td>\n",
              "    </tr>\n",
              "    <tr>\n",
              "      <th>3</th>\n",
              "      <td>12646</td>\n",
              "      <td>580553</td>\n",
              "      <td>20975</td>\n",
              "      <td>12 PENCILS SMALL TUBE RED RETROSPOT</td>\n",
              "      <td>2011-12-05</td>\n",
              "      <td>72</td>\n",
              "      <td>0.65</td>\n",
              "      <td>USA</td>\n",
              "      <td>46.80</td>\n",
              "    </tr>\n",
              "    <tr>\n",
              "      <th>4</th>\n",
              "      <td>14911</td>\n",
              "      <td>536540</td>\n",
              "      <td>22355</td>\n",
              "      <td>CHARLOTTE BAG SUKI DESIGN</td>\n",
              "      <td>2010-12-01</td>\n",
              "      <td>50</td>\n",
              "      <td>0.85</td>\n",
              "      <td>EIRE</td>\n",
              "      <td>42.50</td>\n",
              "    </tr>\n",
              "  </tbody>\n",
              "</table>\n",
              "</div>"
            ],
            "text/plain": [
              "  CustomerID InvoiceNo StockCode  ... UnitPrice Country  xaction_value\n",
              "0      12646    572215     23293  ...      0.83     USA          26.56\n",
              "1      12646    572215     23296  ...      1.25     USA          40.00\n",
              "2      12646    580553     23366  ...      0.65     USA          46.80\n",
              "3      12646    580553     20975  ...      0.65     USA          46.80\n",
              "4      14911    536540     22355  ...      0.85    EIRE          42.50\n",
              "\n",
              "[5 rows x 9 columns]"
            ]
          },
          "metadata": {
            "tags": []
          },
          "execution_count": 184
        }
      ]
    },
    {
      "cell_type": "code",
      "metadata": {
        "id": "a7_ItAJiO28C",
        "colab_type": "code",
        "outputId": "69619b9d-55d9-4e1d-d705-f2cbffaf3b51",
        "colab": {
          "base_uri": "https://localhost:8080/",
          "height": 186
        }
      },
      "source": [
        "# BigQuery via google-cloud-bigquery\n",
        "\n",
        "df = client.query('''\n",
        "  SELECT *\n",
        "  FROM `rleung-sandbox.CLV.online_retailer_UK`\n",
        "''').to_dataframe()\n",
        "\n",
        "df.head()"
      ],
      "execution_count": 0,
      "outputs": [
        {
          "output_type": "execute_result",
          "data": {
            "application/vnd.google.colaboratory.module+javascript": "\n      import \"https://ssl.gstatic.com/colaboratory/data_table/a6224c040fa35dcf/data_table.js\";\n\n      window.createDataTable({\n        data: [[{\n            'v': 0,\n            'f': \"0\",\n        },\n\"12646\",\n\"572215\",\n\"23293\",\n\"SET OF 12 FAIRY CAKE BAKING CASES\",\n\"2011-10-21\",\n{\n            'v': 32,\n            'f': \"32\",\n        },\n{\n            'v': 0.83,\n            'f': \"0.83\",\n        },\n\"USA\"],\n [{\n            'v': 1,\n            'f': \"1\",\n        },\n\"12646\",\n\"572215\",\n\"23296\",\n\"SET OF 6 TEA TIME BAKING CASES\",\n\"2011-10-21\",\n{\n            'v': 32,\n            'f': \"32\",\n        },\n{\n            'v': 1.25,\n            'f': \"1.25\",\n        },\n\"USA\"],\n [{\n            'v': 2,\n            'f': \"2\",\n        },\n\"12646\",\n\"580553\",\n\"23366\",\n\"SET 12 COLOURING PENCILS DOILY\",\n\"2011-12-05\",\n{\n            'v': 72,\n            'f': \"72\",\n        },\n{\n            'v': 0.65,\n            'f': \"0.65\",\n        },\n\"USA\"],\n [{\n            'v': 3,\n            'f': \"3\",\n        },\n\"12646\",\n\"580553\",\n\"20975\",\n\"12 PENCILS SMALL TUBE RED RETROSPOT\",\n\"2011-12-05\",\n{\n            'v': 72,\n            'f': \"72\",\n        },\n{\n            'v': 0.65,\n            'f': \"0.65\",\n        },\n\"USA\"],\n [{\n            'v': 4,\n            'f': \"4\",\n        },\n\"14911\",\n\"536540\",\n\"22355\",\n\"CHARLOTTE BAG SUKI DESIGN\",\n\"2010-12-01\",\n{\n            'v': 50,\n            'f': \"50\",\n        },\n{\n            'v': 0.85,\n            'f': \"0.85\",\n        },\n\"EIRE\"]],\n        columns: [[\"number\", \"index\"], [\"string\", \"CustomerID\"], [\"string\", \"InvoiceNo\"], [\"string\", \"StockCode\"], [\"string\", \"Description\"], [\"string\", \"InvoiceDate\"], [\"number\", \"Quantity\"], [\"number\", \"UnitPrice\"], [\"string\", \"Country\"]],\n        columnOptions: [{\"width\": \"1px\", \"className\": \"index_column\"}],\n        rowsPerPage: 25,\n        helpUrl: \"https://colab.research.google.com/notebooks/data_table.ipynb\",\n        suppressOutputScrolling: true,\n        minimumWidth: undefined,\n      });\n    ",
            "text/html": [
              "<div>\n",
              "<style scoped>\n",
              "    .dataframe tbody tr th:only-of-type {\n",
              "        vertical-align: middle;\n",
              "    }\n",
              "\n",
              "    .dataframe tbody tr th {\n",
              "        vertical-align: top;\n",
              "    }\n",
              "\n",
              "    .dataframe thead th {\n",
              "        text-align: right;\n",
              "    }\n",
              "</style>\n",
              "<table border=\"1\" class=\"dataframe\">\n",
              "  <thead>\n",
              "    <tr style=\"text-align: right;\">\n",
              "      <th></th>\n",
              "      <th>CustomerID</th>\n",
              "      <th>InvoiceNo</th>\n",
              "      <th>StockCode</th>\n",
              "      <th>Description</th>\n",
              "      <th>InvoiceDate</th>\n",
              "      <th>Quantity</th>\n",
              "      <th>UnitPrice</th>\n",
              "      <th>Country</th>\n",
              "    </tr>\n",
              "  </thead>\n",
              "  <tbody>\n",
              "    <tr>\n",
              "      <th>0</th>\n",
              "      <td>12646</td>\n",
              "      <td>572215</td>\n",
              "      <td>23293</td>\n",
              "      <td>SET OF 12 FAIRY CAKE BAKING CASES</td>\n",
              "      <td>2011-10-21</td>\n",
              "      <td>32</td>\n",
              "      <td>0.83</td>\n",
              "      <td>USA</td>\n",
              "    </tr>\n",
              "    <tr>\n",
              "      <th>1</th>\n",
              "      <td>12646</td>\n",
              "      <td>572215</td>\n",
              "      <td>23296</td>\n",
              "      <td>SET OF 6 TEA TIME BAKING CASES</td>\n",
              "      <td>2011-10-21</td>\n",
              "      <td>32</td>\n",
              "      <td>1.25</td>\n",
              "      <td>USA</td>\n",
              "    </tr>\n",
              "    <tr>\n",
              "      <th>2</th>\n",
              "      <td>12646</td>\n",
              "      <td>580553</td>\n",
              "      <td>23366</td>\n",
              "      <td>SET 12 COLOURING PENCILS DOILY</td>\n",
              "      <td>2011-12-05</td>\n",
              "      <td>72</td>\n",
              "      <td>0.65</td>\n",
              "      <td>USA</td>\n",
              "    </tr>\n",
              "    <tr>\n",
              "      <th>3</th>\n",
              "      <td>12646</td>\n",
              "      <td>580553</td>\n",
              "      <td>20975</td>\n",
              "      <td>12 PENCILS SMALL TUBE RED RETROSPOT</td>\n",
              "      <td>2011-12-05</td>\n",
              "      <td>72</td>\n",
              "      <td>0.65</td>\n",
              "      <td>USA</td>\n",
              "    </tr>\n",
              "    <tr>\n",
              "      <th>4</th>\n",
              "      <td>14911</td>\n",
              "      <td>536540</td>\n",
              "      <td>22355</td>\n",
              "      <td>CHARLOTTE BAG SUKI DESIGN</td>\n",
              "      <td>2010-12-01</td>\n",
              "      <td>50</td>\n",
              "      <td>0.85</td>\n",
              "      <td>EIRE</td>\n",
              "    </tr>\n",
              "  </tbody>\n",
              "</table>\n",
              "</div>"
            ],
            "text/plain": [
              "  CustomerID InvoiceNo StockCode  ... Quantity UnitPrice  Country\n",
              "0      12646    572215     23293  ...       32      0.83      USA\n",
              "1      12646    572215     23296  ...       32      1.25      USA\n",
              "2      12646    580553     23366  ...       72      0.65      USA\n",
              "3      12646    580553     20975  ...       72      0.65      USA\n",
              "4      14911    536540     22355  ...       50      0.85     EIRE\n",
              "\n",
              "[5 rows x 8 columns]"
            ]
          },
          "metadata": {
            "tags": []
          },
          "execution_count": 41
        }
      ]
    },
    {
      "cell_type": "code",
      "metadata": {
        "id": "Nr-GsqNPQVTs",
        "colab_type": "code",
        "outputId": "5361f75a-bf81-44fb-b6d6-e6bfaf24b9d3",
        "colab": {
          "base_uri": "https://localhost:8080/",
          "height": 293
        }
      },
      "source": [
        "# Revert to displaying in Pandas format\n",
        "%unload_ext google.colab.data_table\n",
        "\n",
        "df.describe()"
      ],
      "execution_count": 185,
      "outputs": [
        {
          "output_type": "stream",
          "text": [
            "The google.colab.data_table extension is not loaded.\n"
          ],
          "name": "stdout"
        },
        {
          "output_type": "execute_result",
          "data": {
            "text/html": [
              "<div>\n",
              "<style scoped>\n",
              "    .dataframe tbody tr th:only-of-type {\n",
              "        vertical-align: middle;\n",
              "    }\n",
              "\n",
              "    .dataframe tbody tr th {\n",
              "        vertical-align: top;\n",
              "    }\n",
              "\n",
              "    .dataframe thead th {\n",
              "        text-align: right;\n",
              "    }\n",
              "</style>\n",
              "<table border=\"1\" class=\"dataframe\">\n",
              "  <thead>\n",
              "    <tr style=\"text-align: right;\">\n",
              "      <th></th>\n",
              "      <th>Quantity</th>\n",
              "      <th>UnitPrice</th>\n",
              "      <th>xaction_value</th>\n",
              "    </tr>\n",
              "  </thead>\n",
              "  <tbody>\n",
              "    <tr>\n",
              "      <th>count</th>\n",
              "      <td>532619.000000</td>\n",
              "      <td>532619.000000</td>\n",
              "      <td>532619.000000</td>\n",
              "    </tr>\n",
              "    <tr>\n",
              "      <th>mean</th>\n",
              "      <td>10.240010</td>\n",
              "      <td>3.847635</td>\n",
              "      <td>19.985319</td>\n",
              "    </tr>\n",
              "    <tr>\n",
              "      <th>std</th>\n",
              "      <td>159.573967</td>\n",
              "      <td>41.758101</td>\n",
              "      <td>270.574746</td>\n",
              "    </tr>\n",
              "    <tr>\n",
              "      <th>min</th>\n",
              "      <td>-9600.000000</td>\n",
              "      <td>-11062.060000</td>\n",
              "      <td>-11062.060000</td>\n",
              "    </tr>\n",
              "    <tr>\n",
              "      <th>25%</th>\n",
              "      <td>1.000000</td>\n",
              "      <td>1.250000</td>\n",
              "      <td>3.750000</td>\n",
              "    </tr>\n",
              "    <tr>\n",
              "      <th>50%</th>\n",
              "      <td>3.000000</td>\n",
              "      <td>2.080000</td>\n",
              "      <td>9.900000</td>\n",
              "    </tr>\n",
              "    <tr>\n",
              "      <th>75%</th>\n",
              "      <td>10.000000</td>\n",
              "      <td>4.130000</td>\n",
              "      <td>17.700000</td>\n",
              "    </tr>\n",
              "    <tr>\n",
              "      <th>max</th>\n",
              "      <td>80995.000000</td>\n",
              "      <td>13541.330000</td>\n",
              "      <td>168469.600000</td>\n",
              "    </tr>\n",
              "  </tbody>\n",
              "</table>\n",
              "</div>"
            ],
            "text/plain": [
              "            Quantity      UnitPrice  xaction_value\n",
              "count  532619.000000  532619.000000  532619.000000\n",
              "mean       10.240010       3.847635      19.985319\n",
              "std       159.573967      41.758101     270.574746\n",
              "min     -9600.000000  -11062.060000  -11062.060000\n",
              "25%         1.000000       1.250000       3.750000\n",
              "50%         3.000000       2.080000       9.900000\n",
              "75%        10.000000       4.130000      17.700000\n",
              "max     80995.000000   13541.330000  168469.600000"
            ]
          },
          "metadata": {
            "tags": []
          },
          "execution_count": 185
        }
      ]
    },
    {
      "cell_type": "markdown",
      "metadata": {
        "id": "mTT4Kgy3DbTo",
        "colab_type": "text"
      },
      "source": [
        "# 2.) Data Transformation"
      ]
    },
    {
      "cell_type": "code",
      "metadata": {
        "id": "H9m1oDDIQ4VH",
        "colab_type": "code",
        "outputId": "673a3d22-8488-4cc5-b57f-2c0eef7dfd86",
        "colab": {
          "base_uri": "https://localhost:8080/",
          "height": 200
        }
      },
      "source": [
        "pip install lifetimes"
      ],
      "execution_count": 138,
      "outputs": [
        {
          "output_type": "stream",
          "text": [
            "Requirement already satisfied: lifetimes in /usr/local/lib/python3.6/dist-packages (0.11.1)\n",
            "Requirement already satisfied: pandas>=0.24.0 in /usr/local/lib/python3.6/dist-packages (from lifetimes) (1.0.4)\n",
            "Requirement already satisfied: dill>=0.2.6 in /usr/local/lib/python3.6/dist-packages (from lifetimes) (0.3.1.1)\n",
            "Requirement already satisfied: autograd>=1.2.0 in /usr/local/lib/python3.6/dist-packages (from lifetimes) (1.3)\n",
            "Requirement already satisfied: scipy>=1.0.0 in /usr/local/lib/python3.6/dist-packages (from lifetimes) (1.4.1)\n",
            "Requirement already satisfied: numpy>=1.10.0 in /usr/local/lib/python3.6/dist-packages (from lifetimes) (1.18.4)\n",
            "Requirement already satisfied: python-dateutil>=2.6.1 in /usr/local/lib/python3.6/dist-packages (from pandas>=0.24.0->lifetimes) (2.8.1)\n",
            "Requirement already satisfied: pytz>=2017.2 in /usr/local/lib/python3.6/dist-packages (from pandas>=0.24.0->lifetimes) (2018.9)\n",
            "Requirement already satisfied: future>=0.15.2 in /usr/local/lib/python3.6/dist-packages (from autograd>=1.2.0->lifetimes) (0.16.0)\n",
            "Requirement already satisfied: six>=1.5 in /usr/local/lib/python3.6/dist-packages (from python-dateutil>=2.6.1->pandas>=0.24.0->lifetimes) (1.12.0)\n"
          ],
          "name": "stdout"
        }
      ]
    },
    {
      "cell_type": "markdown",
      "metadata": {
        "id": "Jq3FwkyaDeUo",
        "colab_type": "text"
      },
      "source": [
        "## a.- Transform data as RFM"
      ]
    },
    {
      "cell_type": "code",
      "metadata": {
        "id": "sUfZ8sINQ7UZ",
        "colab_type": "code",
        "outputId": "4e14c552-7056-445f-d915-88b73677ae79",
        "colab": {
          "base_uri": "https://localhost:8080/",
          "height": 220
        }
      },
      "source": [
        "from lifetimes.utils import summary_data_from_transaction_data\n",
        "\n",
        "xaction_RFM = summary_data_from_transaction_data(\n",
        "    df,\n",
        "    'CustomerID', \n",
        "    'InvoiceDate', \n",
        "    'xaction_value',\n",
        "    observation_period_end='2011-12-09'\n",
        ")\n",
        "\n",
        "xaction_RFM.head()"
      ],
      "execution_count": 190,
      "outputs": [
        {
          "output_type": "execute_result",
          "data": {
            "text/html": [
              "<div>\n",
              "<style scoped>\n",
              "    .dataframe tbody tr th:only-of-type {\n",
              "        vertical-align: middle;\n",
              "    }\n",
              "\n",
              "    .dataframe tbody tr th {\n",
              "        vertical-align: top;\n",
              "    }\n",
              "\n",
              "    .dataframe thead th {\n",
              "        text-align: right;\n",
              "    }\n",
              "</style>\n",
              "<table border=\"1\" class=\"dataframe\">\n",
              "  <thead>\n",
              "    <tr style=\"text-align: right;\">\n",
              "      <th></th>\n",
              "      <th>frequency</th>\n",
              "      <th>recency</th>\n",
              "      <th>T</th>\n",
              "      <th>monetary_value</th>\n",
              "    </tr>\n",
              "    <tr>\n",
              "      <th>CustomerID</th>\n",
              "      <th></th>\n",
              "      <th></th>\n",
              "      <th></th>\n",
              "      <th></th>\n",
              "    </tr>\n",
              "  </thead>\n",
              "  <tbody>\n",
              "    <tr>\n",
              "      <th>12346</th>\n",
              "      <td>0.0</td>\n",
              "      <td>0.0</td>\n",
              "      <td>325.0</td>\n",
              "      <td>0.000000</td>\n",
              "    </tr>\n",
              "    <tr>\n",
              "      <th>12347</th>\n",
              "      <td>6.0</td>\n",
              "      <td>365.0</td>\n",
              "      <td>367.0</td>\n",
              "      <td>599.701667</td>\n",
              "    </tr>\n",
              "    <tr>\n",
              "      <th>12348</th>\n",
              "      <td>3.0</td>\n",
              "      <td>283.0</td>\n",
              "      <td>358.0</td>\n",
              "      <td>301.480000</td>\n",
              "    </tr>\n",
              "    <tr>\n",
              "      <th>12349</th>\n",
              "      <td>0.0</td>\n",
              "      <td>0.0</td>\n",
              "      <td>18.0</td>\n",
              "      <td>0.000000</td>\n",
              "    </tr>\n",
              "    <tr>\n",
              "      <th>12350</th>\n",
              "      <td>0.0</td>\n",
              "      <td>0.0</td>\n",
              "      <td>310.0</td>\n",
              "      <td>0.000000</td>\n",
              "    </tr>\n",
              "  </tbody>\n",
              "</table>\n",
              "</div>"
            ],
            "text/plain": [
              "            frequency  recency      T  monetary_value\n",
              "CustomerID                                           \n",
              "12346             0.0      0.0  325.0        0.000000\n",
              "12347             6.0    365.0  367.0      599.701667\n",
              "12348             3.0    283.0  358.0      301.480000\n",
              "12349             0.0      0.0   18.0        0.000000\n",
              "12350             0.0      0.0  310.0        0.000000"
            ]
          },
          "metadata": {
            "tags": []
          },
          "execution_count": 190
        }
      ]
    },
    {
      "cell_type": "code",
      "metadata": {
        "id": "ki1D6Z3VXLGa",
        "colab_type": "code",
        "outputId": "08ae95dc-fb7b-4293-850e-e78fabdfa31e",
        "colab": {
          "base_uri": "https://localhost:8080/",
          "height": 277
        }
      },
      "source": [
        "xaction_RFM.describe()"
      ],
      "execution_count": 191,
      "outputs": [
        {
          "output_type": "execute_result",
          "data": {
            "text/html": [
              "<div>\n",
              "<style scoped>\n",
              "    .dataframe tbody tr th:only-of-type {\n",
              "        vertical-align: middle;\n",
              "    }\n",
              "\n",
              "    .dataframe tbody tr th {\n",
              "        vertical-align: top;\n",
              "    }\n",
              "\n",
              "    .dataframe thead th {\n",
              "        text-align: right;\n",
              "    }\n",
              "</style>\n",
              "<table border=\"1\" class=\"dataframe\">\n",
              "  <thead>\n",
              "    <tr style=\"text-align: right;\">\n",
              "      <th></th>\n",
              "      <th>frequency</th>\n",
              "      <th>recency</th>\n",
              "      <th>T</th>\n",
              "      <th>monetary_value</th>\n",
              "    </tr>\n",
              "  </thead>\n",
              "  <tbody>\n",
              "    <tr>\n",
              "      <th>count</th>\n",
              "      <td>4339.000000</td>\n",
              "      <td>4339.000000</td>\n",
              "      <td>4339.000000</td>\n",
              "      <td>4339.000000</td>\n",
              "    </tr>\n",
              "    <tr>\n",
              "      <th>mean</th>\n",
              "      <td>2.864024</td>\n",
              "      <td>130.741415</td>\n",
              "      <td>222.782899</td>\n",
              "      <td>306.944168</td>\n",
              "    </tr>\n",
              "    <tr>\n",
              "      <th>std</th>\n",
              "      <td>5.952745</td>\n",
              "      <td>132.210176</td>\n",
              "      <td>117.883623</td>\n",
              "      <td>2612.453380</td>\n",
              "    </tr>\n",
              "    <tr>\n",
              "      <th>min</th>\n",
              "      <td>0.000000</td>\n",
              "      <td>0.000000</td>\n",
              "      <td>0.000000</td>\n",
              "      <td>0.000000</td>\n",
              "    </tr>\n",
              "    <tr>\n",
              "      <th>25%</th>\n",
              "      <td>0.000000</td>\n",
              "      <td>0.000000</td>\n",
              "      <td>112.000000</td>\n",
              "      <td>0.000000</td>\n",
              "    </tr>\n",
              "    <tr>\n",
              "      <th>50%</th>\n",
              "      <td>1.000000</td>\n",
              "      <td>93.000000</td>\n",
              "      <td>248.000000</td>\n",
              "      <td>176.940000</td>\n",
              "    </tr>\n",
              "    <tr>\n",
              "      <th>75%</th>\n",
              "      <td>3.000000</td>\n",
              "      <td>252.000000</td>\n",
              "      <td>326.000000</td>\n",
              "      <td>360.161667</td>\n",
              "    </tr>\n",
              "    <tr>\n",
              "      <th>max</th>\n",
              "      <td>131.000000</td>\n",
              "      <td>373.000000</td>\n",
              "      <td>373.000000</td>\n",
              "      <td>168469.600000</td>\n",
              "    </tr>\n",
              "  </tbody>\n",
              "</table>\n",
              "</div>"
            ],
            "text/plain": [
              "         frequency      recency            T  monetary_value\n",
              "count  4339.000000  4339.000000  4339.000000     4339.000000\n",
              "mean      2.864024   130.741415   222.782899      306.944168\n",
              "std       5.952745   132.210176   117.883623     2612.453380\n",
              "min       0.000000     0.000000     0.000000        0.000000\n",
              "25%       0.000000     0.000000   112.000000        0.000000\n",
              "50%       1.000000    93.000000   248.000000      176.940000\n",
              "75%       3.000000   252.000000   326.000000      360.161667\n",
              "max     131.000000   373.000000   373.000000   168469.600000"
            ]
          },
          "metadata": {
            "tags": []
          },
          "execution_count": 191
        }
      ]
    },
    {
      "cell_type": "markdown",
      "metadata": {
        "id": "HoZPP41GDpfv",
        "colab_type": "text"
      },
      "source": [
        "## b.- Cust. Distribution by Freq."
      ]
    },
    {
      "cell_type": "code",
      "metadata": {
        "id": "N7-fyTRpTDox",
        "colab_type": "code",
        "outputId": "ac057f18-8e1d-4431-8aec-2a121b2f4fc3",
        "colab": {
          "base_uri": "https://localhost:8080/",
          "height": 596
        }
      },
      "source": [
        "import matplotlib.pyplot as plt\n",
        "plt.rcParams[\"figure.figsize\"] = (20,10)\n",
        "\n",
        "import pandas as pd\n",
        "\n",
        "xaction_RFM.hist(column='frequency', bins=131)"
      ],
      "execution_count": 192,
      "outputs": [
        {
          "output_type": "execute_result",
          "data": {
            "text/plain": [
              "array([[<matplotlib.axes._subplots.AxesSubplot object at 0x7f416bf258d0>]],\n",
              "      dtype=object)"
            ]
          },
          "metadata": {
            "tags": []
          },
          "execution_count": 192
        },
        {
          "output_type": "display_data",
          "data": {
            "image/png": "[encoded data removed]",
            "text/plain": [
              "<Figure size 1440x720 with 1 Axes>"
            ]
          },
          "metadata": {
            "tags": [],
            "needs_background": "light"
          }
        }
      ]
    },
    {
      "cell_type": "markdown",
      "metadata": {
        "id": "eY--8BF5YsR4",
        "colab_type": "text"
      },
      "source": [
        "# 3.) Training Model to det. 'Alive-ness'"
      ]
    },
    {
      "cell_type": "markdown",
      "metadata": {
        "id": "Gt0mhYjQYk7z",
        "colab_type": "text"
      },
      "source": [
        "For small samples sizes, the parameters can get implausibly large, so by adding an l2 penalty the likelihood, we can control how large these parameters can be. This is implemented as setting as positive `penalizer_coef` in the initialization of the model. In typical applications, penalizers on the order of 0.001 to 0.1 are effective."
      ]
    },
    {
      "cell_type": "code",
      "metadata": {
        "id": "5sw8SMyWYEsJ",
        "colab_type": "code",
        "outputId": "06b06cdd-182d-4cf4-da3c-69425ea05580",
        "colab": {
          "base_uri": "https://localhost:8080/",
          "height": 66
        }
      },
      "source": [
        "from lifetimes import BetaGeoFitter\n",
        "\n",
        "I2 = 0.0004\n",
        "\n",
        "bgf = BetaGeoFitter(penalizer_coef = I2)\n",
        "bgf.fit(xaction_RFM['frequency'], xaction_RFM['recency'], xaction_RFM['T'])"
      ],
      "execution_count": 193,
      "outputs": [
        {
          "output_type": "stream",
          "text": [
            "/usr/local/lib/python3.6/dist-packages/pandas/core/series.py:679: RuntimeWarning: invalid value encountered in sqrt\n",
            "  result = getattr(ufunc, method)(*inputs, **kwargs)\n"
          ],
          "name": "stderr"
        },
        {
          "output_type": "execute_result",
          "data": {
            "text/plain": [
              "<lifetimes.BetaGeoFitter: fitted with 4339 subjects, a: 0.00, alpha: 68.90, b: 0.00, r: 0.83>"
            ]
          },
          "metadata": {
            "tags": []
          },
          "execution_count": 193
        }
      ]
    },
    {
      "cell_type": "markdown",
      "metadata": {
        "id": "EfE8-UXhGLmv",
        "colab_type": "text"
      },
      "source": [
        "## a.- Visualizing Model Frequency/Recency Matrix"
      ]
    },
    {
      "cell_type": "markdown",
      "metadata": {
        "id": "-XOPEHiQGdrj",
        "colab_type": "text"
      },
      "source": [
        "### Recency_Frequency Plot"
      ]
    },
    {
      "cell_type": "code",
      "metadata": {
        "id": "n2zU3k8cY_iQ",
        "colab_type": "code",
        "outputId": "d1251071-8278-41ed-e091-a3c4dc07fce1",
        "colab": {
          "base_uri": "https://localhost:8080/",
          "height": 653
        }
      },
      "source": [
        "from lifetimes.plotting import plot_frequency_recency_matrix\n",
        "plot_frequency_recency_matrix(bgf)"
      ],
      "execution_count": 194,
      "outputs": [
        {
          "output_type": "execute_result",
          "data": {
            "text/plain": [
              "<matplotlib.axes._subplots.AxesSubplot at 0x7f4184039908>"
            ]
          },
          "metadata": {
            "tags": []
          },
          "execution_count": 194
        },
        {
          "output_type": "display_data",
          "data": {
            "image/png": "[encoded data removed]",
            "text/plain": [
              "<Figure size 1440x720 with 2 Axes>"
            ]
          },
          "metadata": {
            "tags": [],
            "needs_background": "light"
          }
        }
      ]
    },
    {
      "cell_type": "markdown",
      "metadata": {
        "id": "INrNl4VodSy5",
        "colab_type": "text"
      },
      "source": [
        "### 'Still Alive' Plot"
      ]
    },
    {
      "cell_type": "code",
      "metadata": {
        "id": "Eu2AXgafdVkD",
        "colab_type": "code",
        "outputId": "388377ee-5b5c-40dc-9169-f947a71ab3c0",
        "colab": {
          "base_uri": "https://localhost:8080/",
          "height": 653
        }
      },
      "source": [
        "from lifetimes.plotting import plot_probability_alive_matrix\n",
        "plot_probability_alive_matrix(bgf)"
      ],
      "execution_count": 195,
      "outputs": [
        {
          "output_type": "execute_result",
          "data": {
            "text/plain": [
              "<matplotlib.axes._subplots.AxesSubplot at 0x7f416e738ac8>"
            ]
          },
          "metadata": {
            "tags": []
          },
          "execution_count": 195
        },
        {
          "output_type": "display_data",
          "data": {
            "image/png": "[encoded data removed]",
            "text/plain": [
              "<Figure size 1440x720 with 2 Axes>"
            ]
          },
          "metadata": {
            "tags": [],
            "needs_background": "light"
          }
        }
      ]
    },
    {
      "cell_type": "markdown",
      "metadata": {
        "id": "rElIrQYadiyQ",
        "colab_type": "text"
      },
      "source": [
        "## b.- Rank customer from Best to Worst\n",
        "\n",
        "The expected number of repeat purchases in the **next day** using their history."
      ]
    },
    {
      "cell_type": "code",
      "metadata": {
        "id": "sJZgtiVudoTi",
        "colab_type": "code",
        "outputId": "72bb650d-1cac-42d8-8317-228cc0add923",
        "colab": {
          "base_uri": "https://localhost:8080/",
          "height": 420
        }
      },
      "source": [
        "t = 1  #day(s)\n",
        "xaction_RFM['predicted_purchase'] = bgf.conditional_expected_number_of_purchases_up_to_time(\n",
        "    t,\n",
        "    xaction_RFM['frequency'], \n",
        "    xaction_RFM['recency'], \n",
        "    xaction_RFM['T']\n",
        ")\n",
        "xaction_RFM.sort_values(by='predicted_purchase').tail(100)"
      ],
      "execution_count": 196,
      "outputs": [
        {
          "output_type": "execute_result",
          "data": {
            "text/html": [
              "<div>\n",
              "<style scoped>\n",
              "    .dataframe tbody tr th:only-of-type {\n",
              "        vertical-align: middle;\n",
              "    }\n",
              "\n",
              "    .dataframe tbody tr th {\n",
              "        vertical-align: top;\n",
              "    }\n",
              "\n",
              "    .dataframe thead th {\n",
              "        text-align: right;\n",
              "    }\n",
              "</style>\n",
              "<table border=\"1\" class=\"dataframe\">\n",
              "  <thead>\n",
              "    <tr style=\"text-align: right;\">\n",
              "      <th></th>\n",
              "      <th>frequency</th>\n",
              "      <th>recency</th>\n",
              "      <th>T</th>\n",
              "      <th>monetary_value</th>\n",
              "      <th>predicted_purchase</th>\n",
              "    </tr>\n",
              "    <tr>\n",
              "      <th>CustomerID</th>\n",
              "      <th></th>\n",
              "      <th></th>\n",
              "      <th></th>\n",
              "      <th></th>\n",
              "      <th></th>\n",
              "    </tr>\n",
              "  </thead>\n",
              "  <tbody>\n",
              "    <tr>\n",
              "      <th>17381</th>\n",
              "      <td>19.0</td>\n",
              "      <td>364.0</td>\n",
              "      <td>372.0</td>\n",
              "      <td>1012.606842</td>\n",
              "      <td>0.044966</td>\n",
              "    </tr>\n",
              "    <tr>\n",
              "      <th>18041</th>\n",
              "      <td>19.0</td>\n",
              "      <td>361.0</td>\n",
              "      <td>372.0</td>\n",
              "      <td>197.602632</td>\n",
              "      <td>0.044966</td>\n",
              "    </tr>\n",
              "    <tr>\n",
              "      <th>14562</th>\n",
              "      <td>16.0</td>\n",
              "      <td>301.0</td>\n",
              "      <td>304.0</td>\n",
              "      <td>300.745000</td>\n",
              "      <td>0.045120</td>\n",
              "    </tr>\n",
              "    <tr>\n",
              "      <th>13685</th>\n",
              "      <td>5.0</td>\n",
              "      <td>58.0</td>\n",
              "      <td>60.0</td>\n",
              "      <td>357.056000</td>\n",
              "      <td>0.045193</td>\n",
              "    </tr>\n",
              "    <tr>\n",
              "      <th>16931</th>\n",
              "      <td>19.0</td>\n",
              "      <td>364.0</td>\n",
              "      <td>369.0</td>\n",
              "      <td>234.324737</td>\n",
              "      <td>0.045274</td>\n",
              "    </tr>\n",
              "    <tr>\n",
              "      <th>...</th>\n",
              "      <td>...</td>\n",
              "      <td>...</td>\n",
              "      <td>...</td>\n",
              "      <td>...</td>\n",
              "      <td>...</td>\n",
              "    </tr>\n",
              "    <tr>\n",
              "      <th>14606</th>\n",
              "      <td>88.0</td>\n",
              "      <td>372.0</td>\n",
              "      <td>373.0</td>\n",
              "      <td>135.890114</td>\n",
              "      <td>0.201008</td>\n",
              "    </tr>\n",
              "    <tr>\n",
              "      <th>15311</th>\n",
              "      <td>89.0</td>\n",
              "      <td>373.0</td>\n",
              "      <td>373.0</td>\n",
              "      <td>677.729438</td>\n",
              "      <td>0.203271</td>\n",
              "    </tr>\n",
              "    <tr>\n",
              "      <th>17841</th>\n",
              "      <td>111.0</td>\n",
              "      <td>372.0</td>\n",
              "      <td>373.0</td>\n",
              "      <td>364.452162</td>\n",
              "      <td>0.253056</td>\n",
              "    </tr>\n",
              "    <tr>\n",
              "      <th>12748</th>\n",
              "      <td>113.0</td>\n",
              "      <td>373.0</td>\n",
              "      <td>373.0</td>\n",
              "      <td>298.360885</td>\n",
              "      <td>0.257582</td>\n",
              "    </tr>\n",
              "    <tr>\n",
              "      <th>14911</th>\n",
              "      <td>131.0</td>\n",
              "      <td>372.0</td>\n",
              "      <td>373.0</td>\n",
              "      <td>1093.661679</td>\n",
              "      <td>0.298315</td>\n",
              "    </tr>\n",
              "  </tbody>\n",
              "</table>\n",
              "<p>100 rows × 5 columns</p>\n",
              "</div>"
            ],
            "text/plain": [
              "            frequency  recency      T  monetary_value  predicted_purchase\n",
              "CustomerID                                                               \n",
              "17381            19.0    364.0  372.0     1012.606842            0.044966\n",
              "18041            19.0    361.0  372.0      197.602632            0.044966\n",
              "14562            16.0    301.0  304.0      300.745000            0.045120\n",
              "13685             5.0     58.0   60.0      357.056000            0.045193\n",
              "16931            19.0    364.0  369.0      234.324737            0.045274\n",
              "...               ...      ...    ...             ...                 ...\n",
              "14606            88.0    372.0  373.0      135.890114            0.201008\n",
              "15311            89.0    373.0  373.0      677.729438            0.203271\n",
              "17841           111.0    372.0  373.0      364.452162            0.253056\n",
              "12748           113.0    373.0  373.0      298.360885            0.257582\n",
              "14911           131.0    372.0  373.0     1093.661679            0.298315\n",
              "\n",
              "[100 rows x 5 columns]"
            ]
          },
          "metadata": {
            "tags": []
          },
          "execution_count": 196
        }
      ]
    },
    {
      "cell_type": "markdown",
      "metadata": {
        "id": "an8tRYYbd0tA",
        "colab_type": "text"
      },
      "source": [
        "The expected number of repeat purchases over the **next 3-days** using their history."
      ]
    },
    {
      "cell_type": "code",
      "metadata": {
        "id": "Dt_w4Ya4d9u_",
        "colab_type": "code",
        "outputId": "601169da-a16e-4677-e7f9-424ba48871d5",
        "colab": {
          "base_uri": "https://localhost:8080/",
          "height": 420
        }
      },
      "source": [
        "t = 3  #day(s)\n",
        "xaction_RFM['predicted_purchase'] = bgf.conditional_expected_number_of_purchases_up_to_time(\n",
        "    t,\n",
        "    xaction_RFM['frequency'], \n",
        "    xaction_RFM['recency'], \n",
        "    xaction_RFM['T']\n",
        ")\n",
        "xaction_RFM.sort_values(by='predicted_purchase').tail(100)"
      ],
      "execution_count": 198,
      "outputs": [
        {
          "output_type": "execute_result",
          "data": {
            "text/html": [
              "<div>\n",
              "<style scoped>\n",
              "    .dataframe tbody tr th:only-of-type {\n",
              "        vertical-align: middle;\n",
              "    }\n",
              "\n",
              "    .dataframe tbody tr th {\n",
              "        vertical-align: top;\n",
              "    }\n",
              "\n",
              "    .dataframe thead th {\n",
              "        text-align: right;\n",
              "    }\n",
              "</style>\n",
              "<table border=\"1\" class=\"dataframe\">\n",
              "  <thead>\n",
              "    <tr style=\"text-align: right;\">\n",
              "      <th></th>\n",
              "      <th>frequency</th>\n",
              "      <th>recency</th>\n",
              "      <th>T</th>\n",
              "      <th>monetary_value</th>\n",
              "      <th>predicted_purchase</th>\n",
              "    </tr>\n",
              "    <tr>\n",
              "      <th>CustomerID</th>\n",
              "      <th></th>\n",
              "      <th></th>\n",
              "      <th></th>\n",
              "      <th></th>\n",
              "      <th></th>\n",
              "    </tr>\n",
              "  </thead>\n",
              "  <tbody>\n",
              "    <tr>\n",
              "      <th>17381</th>\n",
              "      <td>19.0</td>\n",
              "      <td>364.0</td>\n",
              "      <td>372.0</td>\n",
              "      <td>1012.606842</td>\n",
              "      <td>0.134897</td>\n",
              "    </tr>\n",
              "    <tr>\n",
              "      <th>18041</th>\n",
              "      <td>19.0</td>\n",
              "      <td>361.0</td>\n",
              "      <td>372.0</td>\n",
              "      <td>197.602632</td>\n",
              "      <td>0.134897</td>\n",
              "    </tr>\n",
              "    <tr>\n",
              "      <th>14562</th>\n",
              "      <td>16.0</td>\n",
              "      <td>301.0</td>\n",
              "      <td>304.0</td>\n",
              "      <td>300.745000</td>\n",
              "      <td>0.135361</td>\n",
              "    </tr>\n",
              "    <tr>\n",
              "      <th>13685</th>\n",
              "      <td>5.0</td>\n",
              "      <td>58.0</td>\n",
              "      <td>60.0</td>\n",
              "      <td>357.056000</td>\n",
              "      <td>0.135578</td>\n",
              "    </tr>\n",
              "    <tr>\n",
              "      <th>16931</th>\n",
              "      <td>19.0</td>\n",
              "      <td>364.0</td>\n",
              "      <td>369.0</td>\n",
              "      <td>234.324737</td>\n",
              "      <td>0.135821</td>\n",
              "    </tr>\n",
              "    <tr>\n",
              "      <th>...</th>\n",
              "      <td>...</td>\n",
              "      <td>...</td>\n",
              "      <td>...</td>\n",
              "      <td>...</td>\n",
              "      <td>...</td>\n",
              "    </tr>\n",
              "    <tr>\n",
              "      <th>14606</th>\n",
              "      <td>88.0</td>\n",
              "      <td>372.0</td>\n",
              "      <td>373.0</td>\n",
              "      <td>135.890114</td>\n",
              "      <td>0.603024</td>\n",
              "    </tr>\n",
              "    <tr>\n",
              "      <th>15311</th>\n",
              "      <td>89.0</td>\n",
              "      <td>373.0</td>\n",
              "      <td>373.0</td>\n",
              "      <td>677.729438</td>\n",
              "      <td>0.609813</td>\n",
              "    </tr>\n",
              "    <tr>\n",
              "      <th>17841</th>\n",
              "      <td>111.0</td>\n",
              "      <td>372.0</td>\n",
              "      <td>373.0</td>\n",
              "      <td>364.452162</td>\n",
              "      <td>0.759168</td>\n",
              "    </tr>\n",
              "    <tr>\n",
              "      <th>12748</th>\n",
              "      <td>113.0</td>\n",
              "      <td>373.0</td>\n",
              "      <td>373.0</td>\n",
              "      <td>298.360885</td>\n",
              "      <td>0.772746</td>\n",
              "    </tr>\n",
              "    <tr>\n",
              "      <th>14911</th>\n",
              "      <td>131.0</td>\n",
              "      <td>372.0</td>\n",
              "      <td>373.0</td>\n",
              "      <td>1093.661679</td>\n",
              "      <td>0.894946</td>\n",
              "    </tr>\n",
              "  </tbody>\n",
              "</table>\n",
              "<p>100 rows × 5 columns</p>\n",
              "</div>"
            ],
            "text/plain": [
              "            frequency  recency      T  monetary_value  predicted_purchase\n",
              "CustomerID                                                               \n",
              "17381            19.0    364.0  372.0     1012.606842            0.134897\n",
              "18041            19.0    361.0  372.0      197.602632            0.134897\n",
              "14562            16.0    301.0  304.0      300.745000            0.135361\n",
              "13685             5.0     58.0   60.0      357.056000            0.135578\n",
              "16931            19.0    364.0  369.0      234.324737            0.135821\n",
              "...               ...      ...    ...             ...                 ...\n",
              "14606            88.0    372.0  373.0      135.890114            0.603024\n",
              "15311            89.0    373.0  373.0      677.729438            0.609813\n",
              "17841           111.0    372.0  373.0      364.452162            0.759168\n",
              "12748           113.0    373.0  373.0      298.360885            0.772746\n",
              "14911           131.0    372.0  373.0     1093.661679            0.894946\n",
              "\n",
              "[100 rows x 5 columns]"
            ]
          },
          "metadata": {
            "tags": []
          },
          "execution_count": 198
        }
      ]
    },
    {
      "cell_type": "markdown",
      "metadata": {
        "id": "VLMHvAHlG-0W",
        "colab_type": "text"
      },
      "source": [
        "## c.- Split Data (training & validation)\n",
        "\n",
        "Split data into a **training** (calibration) period and a **holdout** (observation) period.  Then, train the BG/NBD model and evaluate performance with four plots as outlined by [Peter Fader (26:10)](https://www.youtube.com/watch?v=guj2gVEEx4s)"
      ]
    },
    {
      "cell_type": "markdown",
      "metadata": {
        "id": "-CJym_imGfwF",
        "colab_type": "text"
      },
      "source": [
        "#### Calibration period histogram\n",
        "\n",
        "Compares the purchases between actual and what model's predicts.  The more similar in values between the two, the better.\n"
      ]
    },
    {
      "cell_type": "code",
      "metadata": {
        "id": "iBUdkV-AgFsa",
        "colab_type": "code",
        "outputId": "8ee616ec-7784-4484-d36c-0c760f828424",
        "colab": {
          "base_uri": "https://localhost:8080/",
          "height": 570
        }
      },
      "source": [
        "from lifetimes.plotting import plot_period_transactions\n",
        "plot_period_transactions(bgf, max_frequency=10).set_yscale('log')"
      ],
      "execution_count": 199,
      "outputs": [
        {
          "output_type": "display_data",
          "data": {
            "image/png": "[encoded data removed]",
            "text/plain": [
              "<Figure size 1440x720 with 1 Axes>"
            ]
          },
          "metadata": {
            "tags": [],
            "needs_background": "light"
          }
        }
      ]
    },
    {
      "cell_type": "markdown",
      "metadata": {
        "id": "LonDRqcYgfU9",
        "colab_type": "text"
      },
      "source": [
        "The model is fairly representative of the real data up until **third repeat** transactions.  This proves that our model doesn’t suck"
      ]
    },
    {
      "cell_type": "markdown",
      "metadata": {
        "id": "5FJfE1NxGnNW",
        "colab_type": "text"
      },
      "source": [
        "#### Cumulative transaction plot"
      ]
    },
    {
      "cell_type": "code",
      "metadata": {
        "id": "hTFqjK5GklTU",
        "colab_type": "code",
        "outputId": "d1426f34-757f-4bbf-a23a-32bfdd188b44",
        "colab": {
          "base_uri": "https://localhost:8080/",
          "height": 220
        }
      },
      "source": [
        "from lifetimes.utils import calibration_and_holdout_data\n",
        "\n",
        "summary_cal_holdout = calibration_and_holdout_data(\n",
        "    df,\n",
        "    'CustomerID',\n",
        "    'InvoiceDate',\n",
        "    calibration_period_end = '2011-10-10', \n",
        "    observation_period_end = '2011-12-09'\n",
        ")\n",
        "\n",
        "summary_cal_holdout.head()"
      ],
      "execution_count": 200,
      "outputs": [
        {
          "output_type": "execute_result",
          "data": {
            "text/html": [
              "<div>\n",
              "<style scoped>\n",
              "    .dataframe tbody tr th:only-of-type {\n",
              "        vertical-align: middle;\n",
              "    }\n",
              "\n",
              "    .dataframe tbody tr th {\n",
              "        vertical-align: top;\n",
              "    }\n",
              "\n",
              "    .dataframe thead th {\n",
              "        text-align: right;\n",
              "    }\n",
              "</style>\n",
              "<table border=\"1\" class=\"dataframe\">\n",
              "  <thead>\n",
              "    <tr style=\"text-align: right;\">\n",
              "      <th></th>\n",
              "      <th>frequency_cal</th>\n",
              "      <th>recency_cal</th>\n",
              "      <th>T_cal</th>\n",
              "      <th>frequency_holdout</th>\n",
              "      <th>duration_holdout</th>\n",
              "    </tr>\n",
              "    <tr>\n",
              "      <th>CustomerID</th>\n",
              "      <th></th>\n",
              "      <th></th>\n",
              "      <th></th>\n",
              "      <th></th>\n",
              "      <th></th>\n",
              "    </tr>\n",
              "  </thead>\n",
              "  <tbody>\n",
              "    <tr>\n",
              "      <th>12346</th>\n",
              "      <td>0.0</td>\n",
              "      <td>0.0</td>\n",
              "      <td>265.0</td>\n",
              "      <td>0.0</td>\n",
              "      <td>60</td>\n",
              "    </tr>\n",
              "    <tr>\n",
              "      <th>12347</th>\n",
              "      <td>4.0</td>\n",
              "      <td>238.0</td>\n",
              "      <td>307.0</td>\n",
              "      <td>2.0</td>\n",
              "      <td>60</td>\n",
              "    </tr>\n",
              "    <tr>\n",
              "      <th>12348</th>\n",
              "      <td>3.0</td>\n",
              "      <td>283.0</td>\n",
              "      <td>298.0</td>\n",
              "      <td>0.0</td>\n",
              "      <td>60</td>\n",
              "    </tr>\n",
              "    <tr>\n",
              "      <th>12350</th>\n",
              "      <td>0.0</td>\n",
              "      <td>0.0</td>\n",
              "      <td>250.0</td>\n",
              "      <td>0.0</td>\n",
              "      <td>60</td>\n",
              "    </tr>\n",
              "    <tr>\n",
              "      <th>12352</th>\n",
              "      <td>5.0</td>\n",
              "      <td>224.0</td>\n",
              "      <td>236.0</td>\n",
              "      <td>1.0</td>\n",
              "      <td>60</td>\n",
              "    </tr>\n",
              "  </tbody>\n",
              "</table>\n",
              "</div>"
            ],
            "text/plain": [
              "            frequency_cal  recency_cal  ...  frequency_holdout  duration_holdout\n",
              "CustomerID                              ...                                     \n",
              "12346                 0.0          0.0  ...                0.0                60\n",
              "12347                 4.0        238.0  ...                2.0                60\n",
              "12348                 3.0        283.0  ...                0.0                60\n",
              "12350                 0.0          0.0  ...                0.0                60\n",
              "12352                 5.0        224.0  ...                1.0                60\n",
              "\n",
              "[5 rows x 5 columns]"
            ]
          },
          "metadata": {
            "tags": []
          },
          "execution_count": 200
        }
      ]
    },
    {
      "cell_type": "code",
      "metadata": {
        "id": "xodX7Q6zm6ba",
        "colab_type": "code",
        "outputId": "7f7e7afc-4912-4bad-ed63-03f0e4b15492",
        "colab": {
          "base_uri": "https://localhost:8080/",
          "height": 66
        }
      },
      "source": [
        "bgf.fit(summary_cal_holdout['frequency_cal'], summary_cal_holdout['recency_cal'], summary_cal_holdout['T_cal'])"
      ],
      "execution_count": 202,
      "outputs": [
        {
          "output_type": "stream",
          "text": [
            "/usr/local/lib/python3.6/dist-packages/pandas/core/series.py:679: RuntimeWarning: invalid value encountered in sqrt\n",
            "  result = getattr(ufunc, method)(*inputs, **kwargs)\n"
          ],
          "name": "stderr"
        },
        {
          "output_type": "execute_result",
          "data": {
            "text/plain": [
              "<lifetimes.BetaGeoFitter: fitted with 3741 subjects, a: 0.00, alpha: 69.71, b: 0.00, r: 0.77>"
            ]
          },
          "metadata": {
            "tags": []
          },
          "execution_count": 202
        }
      ]
    },
    {
      "cell_type": "code",
      "metadata": {
        "id": "xBxkLFqgnxHo",
        "colab_type": "code",
        "outputId": "cf635a85-9f5a-4dde-faa4-9f1cce75196a",
        "colab": {
          "base_uri": "https://localhost:8080/",
          "height": 567
        }
      },
      "source": [
        "from lifetimes.plotting import plot_cumulative_transactions\n",
        "plot_cumulative_transactions(bgf, df, 'InvoiceDate', 'CustomerID', 373, 313, freq='D');"
      ],
      "execution_count": 203,
      "outputs": [
        {
          "output_type": "display_data",
          "data": {
            "image/png": "[encoded data removed]",
            "text/plain": [
              "<Figure size 1440x720 with 1 Axes>"
            ]
          },
          "metadata": {
            "tags": [],
            "needs_background": "light"
          }
        }
      ]
    },
    {
      "cell_type": "markdown",
      "metadata": {
        "id": "H9-iOeJjp1hX",
        "colab_type": "text"
      },
      "source": [
        "The red line represents the boundary between the calibration period on the left and the holdout period on the right. \n",
        "\n",
        "As you can see, the BG/NBD model is not so greate in predicting cumulative transactions."
      ]
    },
    {
      "cell_type": "markdown",
      "metadata": {
        "id": "PSQu2L0PGpsx",
        "colab_type": "text"
      },
      "source": [
        "#### Incremental transaction plot"
      ]
    },
    {
      "cell_type": "code",
      "metadata": {
        "id": "yK-b6xYgqHZH",
        "colab_type": "code",
        "outputId": "fe233a2b-a0f7-48df-c972-6aa07e9dd420",
        "colab": {
          "base_uri": "https://localhost:8080/",
          "height": 573
        }
      },
      "source": [
        "from lifetimes.plotting import plot_incremental_transactions\n",
        "plot_incremental_transactions(bgf, df, 'InvoiceDate', 'CustomerID', 373, 313, freq='D');"
      ],
      "execution_count": 204,
      "outputs": [
        {
          "output_type": "display_data",
          "data": {
            "image/png": "[encoded data removed]",
            "text/plain": [
              "<Figure size 1440x720 with 1 Axes>"
            ]
          },
          "metadata": {
            "tags": [],
            "needs_background": "light"
          }
        }
      ]
    },
    {
      "cell_type": "markdown",
      "metadata": {
        "id": "dgektGsDqbu-",
        "colab_type": "text"
      },
      "source": [
        "This plot shows that the model does only a decent job capturing general trends in the data."
      ]
    },
    {
      "cell_type": "markdown",
      "metadata": {
        "id": "T_jV8ByyGq3U",
        "colab_type": "text"
      },
      "source": [
        "#### Conditional expectations plot"
      ]
    },
    {
      "cell_type": "code",
      "metadata": {
        "id": "q06aKOf6CreP",
        "colab_type": "code",
        "outputId": "6a9f9416-7c9b-4bdf-cb16-7587190bf89a",
        "colab": {
          "base_uri": "https://localhost:8080/",
          "height": 591
        }
      },
      "source": [
        "from lifetimes.plotting import plot_calibration_purchases_vs_holdout_purchases\n",
        "plot_calibration_purchases_vs_holdout_purchases(bgf, summary_cal_holdout, n=60)"
      ],
      "execution_count": 205,
      "outputs": [
        {
          "output_type": "execute_result",
          "data": {
            "text/plain": [
              "<matplotlib.axes._subplots.AxesSubplot at 0x7f417684e710>"
            ]
          },
          "metadata": {
            "tags": []
          },
          "execution_count": 205
        },
        {
          "output_type": "display_data",
          "data": {
            "image/png": "[encoded data removed]",
            "text/plain": [
              "<Figure size 1440x720 with 1 Axes>"
            ]
          },
          "metadata": {
            "tags": [],
            "needs_background": "light"
          }
        }
      ]
    },
    {
      "cell_type": "markdown",
      "metadata": {
        "id": "4hd_6cqfrbeW",
        "colab_type": "text"
      },
      "source": [
        "The model performs OK up to about 30-days, but increasingly diverges from the holdout data because of thie distribution of the data."
      ]
    },
    {
      "cell_type": "code",
      "metadata": {
        "id": "N92wGugPq5F2",
        "colab_type": "code",
        "outputId": "0c79f032-559b-49bb-fa54-5761030a3c9d",
        "colab": {
          "base_uri": "https://localhost:8080/",
          "height": 212
        }
      },
      "source": [
        "df.groupby('CustomerID').size().value_counts()"
      ],
      "execution_count": 206,
      "outputs": [
        {
          "output_type": "execute_result",
          "data": {
            "text/plain": [
              "10      78\n",
              "11      74\n",
              "6       73\n",
              "9       73\n",
              "5       72\n",
              "        ..\n",
              "741      1\n",
              "705      1\n",
              "2700     1\n",
              "645      1\n",
              "1637     1\n",
              "Length: 461, dtype: int64"
            ]
          },
          "metadata": {
            "tags": []
          },
          "execution_count": 206
        }
      ]
    },
    {
      "cell_type": "markdown",
      "metadata": {
        "id": "F2lBYDgDuGze",
        "colab_type": "text"
      },
      "source": [
        "## d. Predictions"
      ]
    },
    {
      "cell_type": "markdown",
      "metadata": {
        "id": "iVDVP1ALctt1",
        "colab_type": "text"
      },
      "source": [
        "### Single Customer Prediction\n",
        "\n",
        "Let's pick some customer and predict what that indivudla's future purchase might look like:"
      ]
    },
    {
      "cell_type": "code",
      "metadata": {
        "id": "jJz9NXhBsBDP",
        "colab_type": "code",
        "outputId": "605b5d7c-8f90-4012-d725-073fda69c172",
        "colab": {
          "base_uri": "https://localhost:8080/",
          "height": 33
        }
      },
      "source": [
        "t = 3  #predict purchases in 3-days\n",
        "individual = xaction_RFM.loc['14688', :]    # customerID = '13694'\n",
        "bgf.conditional_expected_number_of_purchases_up_to_time(\n",
        "    t,\n",
        "    individual['frequency'], \n",
        "    individual['recency'], \n",
        "    individual['T']\n",
        ")"
      ],
      "execution_count": 207,
      "outputs": [
        {
          "output_type": "execute_result",
          "data": {
            "text/plain": [
              "0.13396757464999243"
            ]
          },
          "metadata": {
            "tags": []
          },
          "execution_count": 207
        }
      ]
    },
    {
      "cell_type": "markdown",
      "metadata": {
        "id": "RNNrMiK1e17m",
        "colab_type": "text"
      },
      "source": [
        "### Single Customer probability Histories\n",
        "\n",
        "Given a customer transaction history, we can calculate their historical probability of being alive, according to our trained model. For example:"
      ]
    },
    {
      "cell_type": "code",
      "metadata": {
        "id": "NesB9tN7dQVm",
        "colab_type": "code",
        "outputId": "b77188ac-69d5-45cd-a637-a64e8cde3ede",
        "colab": {
          "base_uri": "https://localhost:8080/",
          "height": 577
        }
      },
      "source": [
        "from lifetimes.plotting import plot_history_alive\n",
        "\n",
        "customer_ID = '14688'\n",
        "days_since_birth = 373\n",
        "sp_trans = df.loc[df['CustomerID'] == customer_ID]\n",
        "plot_history_alive(bgf, days_since_birth, sp_trans, 'InvoiceDate')"
      ],
      "execution_count": 208,
      "outputs": [
        {
          "output_type": "execute_result",
          "data": {
            "text/plain": [
              "<matplotlib.axes._subplots.AxesSubplot at 0x7f417574fa90>"
            ]
          },
          "metadata": {
            "tags": []
          },
          "execution_count": 208
        },
        {
          "output_type": "display_data",
          "data": {
            "image/png": "[encoded data removed]",
            "text/plain": [
              "<Figure size 1440x720 with 1 Axes>"
            ]
          },
          "metadata": {
            "tags": [],
            "needs_background": "light"
          }
        }
      ]
    },
    {
      "cell_type": "markdown",
      "metadata": {
        "id": "5S645tePnZcK",
        "colab_type": "text"
      },
      "source": [
        "#4.) Estimating CLV using Gamma-Gamma model\n",
        "\n",
        "Until now, we have not taken into account the economics value of each transaction; rather, we've only been focusing on transactions' occurences.\n",
        "\n",
        "In order to estimate CLV, we will use the `Gamma-Gama` submodel.\n",
        "\n",
        "First, we shall create summary data from the transactional data that contains the economics values for each transaction (e.g., profits or revenues)."
      ]
    },
    {
      "cell_type": "code",
      "metadata": {
        "id": "V-6_c8WQhF2B",
        "colab_type": "code",
        "colab": {
          "base_uri": "https://localhost:8080/",
          "height": 220
        },
        "outputId": "93c92ea6-e829-4a29-ca97-16c65e27181d"
      },
      "source": [
        "summary_with_money_value = xaction_RFM\n",
        "returning_customers_summary = summary_with_money_value[summary_with_money_value['frequency']>0]\n",
        "returning_customers_summary.head()"
      ],
      "execution_count": 212,
      "outputs": [
        {
          "output_type": "execute_result",
          "data": {
            "text/html": [
              "<div>\n",
              "<style scoped>\n",
              "    .dataframe tbody tr th:only-of-type {\n",
              "        vertical-align: middle;\n",
              "    }\n",
              "\n",
              "    .dataframe tbody tr th {\n",
              "        vertical-align: top;\n",
              "    }\n",
              "\n",
              "    .dataframe thead th {\n",
              "        text-align: right;\n",
              "    }\n",
              "</style>\n",
              "<table border=\"1\" class=\"dataframe\">\n",
              "  <thead>\n",
              "    <tr style=\"text-align: right;\">\n",
              "      <th></th>\n",
              "      <th>frequency</th>\n",
              "      <th>recency</th>\n",
              "      <th>T</th>\n",
              "      <th>monetary_value</th>\n",
              "      <th>predicted_purchase</th>\n",
              "    </tr>\n",
              "    <tr>\n",
              "      <th>CustomerID</th>\n",
              "      <th></th>\n",
              "      <th></th>\n",
              "      <th></th>\n",
              "      <th></th>\n",
              "      <th></th>\n",
              "    </tr>\n",
              "  </thead>\n",
              "  <tbody>\n",
              "    <tr>\n",
              "      <th>12347</th>\n",
              "      <td>6.0</td>\n",
              "      <td>365.0</td>\n",
              "      <td>367.0</td>\n",
              "      <td>599.701667</td>\n",
              "      <td>0.046974</td>\n",
              "    </tr>\n",
              "    <tr>\n",
              "      <th>12348</th>\n",
              "      <td>3.0</td>\n",
              "      <td>283.0</td>\n",
              "      <td>358.0</td>\n",
              "      <td>301.480000</td>\n",
              "      <td>0.026882</td>\n",
              "    </tr>\n",
              "    <tr>\n",
              "      <th>12352</th>\n",
              "      <td>6.0</td>\n",
              "      <td>260.0</td>\n",
              "      <td>296.0</td>\n",
              "      <td>368.256667</td>\n",
              "      <td>0.056114</td>\n",
              "    </tr>\n",
              "    <tr>\n",
              "      <th>12356</th>\n",
              "      <td>2.0</td>\n",
              "      <td>303.0</td>\n",
              "      <td>325.0</td>\n",
              "      <td>269.905000</td>\n",
              "      <td>0.021518</td>\n",
              "    </tr>\n",
              "    <tr>\n",
              "      <th>12358</th>\n",
              "      <td>1.0</td>\n",
              "      <td>149.0</td>\n",
              "      <td>150.0</td>\n",
              "      <td>683.200000</td>\n",
              "      <td>0.025016</td>\n",
              "    </tr>\n",
              "  </tbody>\n",
              "</table>\n",
              "</div>"
            ],
            "text/plain": [
              "            frequency  recency      T  monetary_value  predicted_purchase\n",
              "CustomerID                                                               \n",
              "12347             6.0    365.0  367.0      599.701667            0.046974\n",
              "12348             3.0    283.0  358.0      301.480000            0.026882\n",
              "12352             6.0    260.0  296.0      368.256667            0.056114\n",
              "12356             2.0    303.0  325.0      269.905000            0.021518\n",
              "12358             1.0    149.0  150.0      683.200000            0.025016"
            ]
          },
          "metadata": {
            "tags": []
          },
          "execution_count": 212
        }
      ]
    },
    {
      "cell_type": "markdown",
      "metadata": {
        "id": "c6Zm1mQxueVt",
        "colab_type": "text"
      },
      "source": [
        "***NOTE***\n",
        "\n",
        "If computing the monetary value from your own data, note that it is the mean of a given customer’s value, not the sum. monetary_value can be used to represent profit, or revenue, or any value as long as it is consistently calculated for each customer."
      ]
    },
    {
      "cell_type": "markdown",
      "metadata": {
        "id": "MRmAoiy5uk8g",
        "colab_type": "text"
      },
      "source": [
        "## a.- Gamma-Gamma Model && Independence Assumptions\n",
        "\n",
        "The model we are going to use to estimate the CLV for our data is called the Gamma-Gamma submodel, which relies upon an important assumption. \n",
        "\n",
        "The Gamma-Gamma submodel assumes that **there is no relationship between the monetary value and the purchase frequency.** In practice we need to check whether the Pearson correlation between the two vectors is close to 0 in order to use this model."
      ]
    },
    {
      "cell_type": "code",
      "metadata": {
        "id": "LTqbIjaauBen",
        "colab_type": "code",
        "colab": {
          "base_uri": "https://localhost:8080/",
          "height": 105
        },
        "outputId": "4f7fc34d-dd2f-41a9-d77d-51c599abd5b2"
      },
      "source": [
        "returning_customers_summary[['monetary_value', 'frequency']].corr()"
      ],
      "execution_count": 213,
      "outputs": [
        {
          "output_type": "execute_result",
          "data": {
            "text/html": [
              "<div>\n",
              "<style scoped>\n",
              "    .dataframe tbody tr th:only-of-type {\n",
              "        vertical-align: middle;\n",
              "    }\n",
              "\n",
              "    .dataframe tbody tr th {\n",
              "        vertical-align: top;\n",
              "    }\n",
              "\n",
              "    .dataframe thead th {\n",
              "        text-align: right;\n",
              "    }\n",
              "</style>\n",
              "<table border=\"1\" class=\"dataframe\">\n",
              "  <thead>\n",
              "    <tr style=\"text-align: right;\">\n",
              "      <th></th>\n",
              "      <th>monetary_value</th>\n",
              "      <th>frequency</th>\n",
              "    </tr>\n",
              "  </thead>\n",
              "  <tbody>\n",
              "    <tr>\n",
              "      <th>monetary_value</th>\n",
              "      <td>1.000000</td>\n",
              "      <td>0.015882</td>\n",
              "    </tr>\n",
              "    <tr>\n",
              "      <th>frequency</th>\n",
              "      <td>0.015882</td>\n",
              "      <td>1.000000</td>\n",
              "    </tr>\n",
              "  </tbody>\n",
              "</table>\n",
              "</div>"
            ],
            "text/plain": [
              "                monetary_value  frequency\n",
              "monetary_value        1.000000   0.015882\n",
              "frequency             0.015882   1.000000"
            ]
          },
          "metadata": {
            "tags": []
          },
          "execution_count": 213
        }
      ]
    },
    {
      "cell_type": "markdown",
      "metadata": {
        "id": "7AJXLeUFu8Vz",
        "colab_type": "text"
      },
      "source": [
        "Since there doesn't seem to be a high correlation between `Monetary Value` and `Purchase Frequency` (value of 0.015882), we can proceed in training our Gamma-Gamma submodel and predict the conditional, expected vaerage lifetime value of our customers."
      ]
    },
    {
      "cell_type": "markdown",
      "metadata": {
        "id": "DV3LtFQIvRln",
        "colab_type": "text"
      },
      "source": [
        "## b.- Train Gamma-Gamma model"
      ]
    },
    {
      "cell_type": "code",
      "metadata": {
        "id": "D6J4sMs3u4Zu",
        "colab_type": "code",
        "colab": {
          "base_uri": "https://localhost:8080/",
          "height": 33
        },
        "outputId": "760d0d41-3676-4457-e945-2d11cc899d83"
      },
      "source": [
        "from lifetimes import GammaGammaFitter\n",
        "\n",
        "ggf = GammaGammaFitter(penalizer_coef = 0)\n",
        "ggf.fit(\n",
        "    returning_customers_summary['frequency'],\n",
        "    returning_customers_summary['monetary_value']\n",
        ")\n",
        "ggf"
      ],
      "execution_count": 214,
      "outputs": [
        {
          "output_type": "execute_result",
          "data": {
            "text/plain": [
              "<lifetimes.GammaGammaFitter: fitted with 2790 subjects, p: 2.10, q: 3.45, v: 485.57>"
            ]
          },
          "metadata": {
            "tags": []
          },
          "execution_count": 214
        }
      ]
    },
    {
      "cell_type": "markdown",
      "metadata": {
        "id": "EIdV43UHyBVl",
        "colab_type": "text"
      },
      "source": [
        "## c.- Est. Avg. Transaction Value"
      ]
    },
    {
      "cell_type": "code",
      "metadata": {
        "id": "T62JR2ogxXva",
        "colab_type": "code",
        "colab": {
          "base_uri": "https://localhost:8080/",
          "height": 228
        },
        "outputId": "5144b366-bd14-4a53-e84e-feee98115500"
      },
      "source": [
        "ggf.conditional_expected_average_profit(\n",
        "    returning_customers_summary['frequency'],\n",
        "    returning_customers_summary['monetary_value']\n",
        ").head(11)"
      ],
      "execution_count": 217,
      "outputs": [
        {
          "output_type": "execute_result",
          "data": {
            "text/plain": [
              "CustomerID\n",
              "12347     569.988807\n",
              "12348     333.762672\n",
              "12352     376.166864\n",
              "12356     324.008941\n",
              "12358     539.930643\n",
              "12359    1515.282839\n",
              "12360     652.217077\n",
              "12362     514.793066\n",
              "12363     341.147333\n",
              "12364     282.075487\n",
              "12370     585.986819\n",
              "dtype: float64"
            ]
          },
          "metadata": {
            "tags": []
          },
          "execution_count": 217
        }
      ]
    },
    {
      "cell_type": "code",
      "metadata": {
        "id": "oS7ZrN-qyPsP",
        "colab_type": "code",
        "colab": {
          "base_uri": "https://localhost:8080/",
          "height": 33
        },
        "outputId": "fd3c6876-f3b3-4462-c42c-f5fd3ecd62eb"
      },
      "source": [
        "print(\n",
        "    \"Expected conditional average revenue: %s, Average revenue: %s\" % (\n",
        "        ggf.conditional_expected_average_profit(\n",
        "            returning_customers_summary['frequency'],\n",
        "            returning_customers_summary['monetary_value']\n",
        "        ).mean(),\n",
        "\n",
        "        summary_with_money_value[summary_with_money_value['frequency']>0]['monetary_value'].mean()\n",
        "    )\n",
        ")"
      ],
      "execution_count": 218,
      "outputs": [
        {
          "output_type": "stream",
          "text": [
            "Expected conditional average revenue: 454.5701345329117, Average revenue: 477.3586892535673\n"
          ],
          "name": "stdout"
        }
      ]
    },
    {
      "cell_type": "code",
      "metadata": {
        "id": "HdgHaUaUzUUG",
        "colab_type": "code",
        "colab": {}
      },
      "source": [
        ""
      ],
      "execution_count": 0,
      "outputs": []
    }
  ]
}